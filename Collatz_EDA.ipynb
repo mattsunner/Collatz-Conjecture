{
 "cells": [
  {
   "cell_type": "code",
   "execution_count": 1,
   "id": "063482a6",
   "metadata": {},
   "outputs": [],
   "source": [
    "# Imports\n",
    "import pandas as pd\n",
    "import numpy as np"
   ]
  },
  {
   "cell_type": "code",
   "execution_count": 17,
   "id": "6539b57f",
   "metadata": {},
   "outputs": [],
   "source": [
    "\"\"\"\n",
    "Conjecture: \n",
    "If a number is odd: 3x+1 where x is the variable\n",
    "If a number is even: x/2 where x is the variable\n",
    "\n",
    "Continue these operations until the 4-2-1 loop is achieved\n",
    "\"\"\"\n",
    "\n",
    "starting_variable = 25"
   ]
  },
  {
   "cell_type": "code",
   "execution_count": 26,
   "id": "66d49a98",
   "metadata": {},
   "outputs": [],
   "source": [
    "def odd_func(n):\n",
    "    result = 3*n+1\n",
    "    \n",
    "    return result\n",
    "\n",
    "def even_func(n):\n",
    "    result = n // 2\n",
    "    \n",
    "    return result\n",
    "\n",
    "def collatz_gen(n):\n",
    "    while n > 1:\n",
    "        if (n % 2):\n",
    "            n = odd_func(n)\n",
    "            print(n)\n",
    "        else:\n",
    "            n = even_func(n)\n",
    "            print(n)\n",
    "    print(1, end=' ')"
   ]
  },
  {
   "cell_type": "code",
   "execution_count": 27,
   "id": "9f0a7cb3",
   "metadata": {},
   "outputs": [
    {
     "name": "stdout",
     "output_type": "stream",
     "text": [
      "76\n",
      "38\n",
      "19\n",
      "58\n",
      "29\n",
      "88\n",
      "44\n",
      "22\n",
      "11\n",
      "34\n",
      "17\n",
      "52\n",
      "26\n",
      "13\n",
      "40\n",
      "20\n",
      "10\n",
      "5\n",
      "16\n",
      "8\n",
      "4\n",
      "2\n",
      "1\n",
      "1 "
     ]
    }
   ],
   "source": [
    "n = starting_variable\n",
    "\n",
    "collatz_gen(n)\n",
    "    "
   ]
  },
  {
   "cell_type": "code",
   "execution_count": null,
   "id": "41ecda3a",
   "metadata": {},
   "outputs": [],
   "source": []
  }
 ],
 "metadata": {
  "kernelspec": {
   "display_name": "Python 3 (ipykernel)",
   "language": "python",
   "name": "python3"
  },
  "language_info": {
   "codemirror_mode": {
    "name": "ipython",
    "version": 3
   },
   "file_extension": ".py",
   "mimetype": "text/x-python",
   "name": "python",
   "nbconvert_exporter": "python",
   "pygments_lexer": "ipython3",
   "version": "3.9.9"
  }
 },
 "nbformat": 4,
 "nbformat_minor": 5
}
